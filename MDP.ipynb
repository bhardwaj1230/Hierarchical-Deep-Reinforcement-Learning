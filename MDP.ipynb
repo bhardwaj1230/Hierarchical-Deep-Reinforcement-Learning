{
  "nbformat": 4,
  "nbformat_minor": 0,
  "metadata": {
    "colab": {
      "name": "MDP",
      "version": "0.3.2",
      "provenance": [],
      "collapsed_sections": [],
      "include_colab_link": true
    },
    "language_info": {
      "codemirror_mode": {
        "name": "ipython",
        "version": 3
      },
      "file_extension": ".py",
      "mimetype": "text/x-python",
      "name": "python",
      "nbconvert_exporter": "python",
      "pygments_lexer": "ipython3",
      "version": "3.6.8"
    },
    "kernelspec": {
      "display_name": "Python 3",
      "language": "python",
      "name": "python3"
    }
  },
  "cells": [
    {
      "cell_type": "markdown",
      "metadata": {
        "id": "view-in-github",
        "colab_type": "text"
      },
      "source": [
        "<a href=\"https://colab.research.google.com/github/bhardwaj1230/Hierarchical-Deep-Reinforcement-Learning/blob/master/MDP.ipynb\" target=\"_parent\"><img src=\"https://colab.research.google.com/assets/colab-badge.svg\" alt=\"Open In Colab\"/></a>"
      ]
    },
    {
      "cell_type": "markdown",
      "metadata": {
        "id": "00sheZTVIW4E",
        "colab_type": "text"
      },
      "source": [
        "# **MDP**"
      ]
    },
    {
      "cell_type": "code",
      "metadata": {
        "id": "PiO7uSaY0RVP",
        "colab_type": "code",
        "outputId": "970c0bfa-d348-4674-d44c-8cf6f6437299",
        "colab": {
          "base_uri": "https://localhost:8080/",
          "height": 85
        }
      },
      "source": [
        "!git clone https://github.com/transedward/pytorch-hdqn.git\n",
        "import os \n",
        "os.chdir('./pytorch-hdqn/')"
      ],
      "execution_count": 0,
      "outputs": [
        {
          "output_type": "stream",
          "text": [
            "Cloning into 'pytorch-hdqn'...\n",
            "remote: Enumerating objects: 50, done.\u001b[K\n",
            "remote: Total 50 (delta 0), reused 0 (delta 0), pack-reused 50\u001b[K\n",
            "Unpacking objects: 100% (50/50), done.\n"
          ],
          "name": "stdout"
        }
      ]
    },
    {
      "cell_type": "markdown",
      "metadata": {
        "id": "4lI1lLTTIcGl",
        "colab_type": "text"
      },
      "source": [
        "**HDQN**"
      ]
    },
    {
      "cell_type": "code",
      "metadata": {
        "id": "shF1U5qh0Q9g",
        "colab_type": "code",
        "outputId": "b66a95ae-ab0e-45cc-fdae-fed417ca015d",
        "colab": {
          "base_uri": "https://localhost:8080/",
          "height": 51
        }
      },
      "source": [
        "import matplotlib\n",
        "%matplotlib inline\n",
        "matplotlib.style.use('ggplot')\n",
        "\n",
        "import torch.optim as optim\n",
        "\n",
        "from envs.mdp import StochasticMDPEnv\n",
        "from agents.hdqn_mdp import hDQN, OptimizerSpec\n",
        "from utils.plotting import plot_episode_stats, plot_visited_states\n",
        "from utils.schedule import LinearSchedule\n",
        "\n",
        "# for auto-reloading external modules\n",
        "# see http://stackoverflow.com/questions/1907993/autoreload-of-modules-in-ipython\n",
        "%load_ext autoreload\n",
        "%autoreload 2\n",
        "\n",
        "\n",
        "NUM_EPISODES = 15000\n",
        "BATCH_SIZE = 128\n",
        "GAMMA = 1.0\n",
        "REPLAY_MEMORY_SIZE = 1000000\n",
        "LEARNING_RATE = 0.00025\n",
        "ALPHA = 0.95\n",
        "EPS = 0.01\n",
        "\n",
        "optimizer_spec = OptimizerSpec(\n",
        "    constructor=optim.RMSprop,\n",
        "    kwargs=dict(lr=LEARNING_RATE, alpha=ALPHA, eps=EPS),\n",
        ")\n",
        "\n",
        "exploration_schedule = LinearSchedule(50000, 0.1, 1)\n",
        "\n",
        "agent = hDQN(\n",
        "    optimizer_spec=optimizer_spec,\n",
        "    replay_memory_size=REPLAY_MEMORY_SIZE,\n",
        "    batch_size=BATCH_SIZE,\n",
        ")\n",
        "\n",
        "env = StochasticMDPEnv()"
      ],
      "execution_count": 0,
      "outputs": [
        {
          "output_type": "stream",
          "text": [
            "The autoreload extension is already loaded. To reload it, use:\n",
            "  %reload_ext autoreload\n"
          ],
          "name": "stdout"
        }
      ]
    },
    {
      "cell_type": "code",
      "metadata": {
        "id": "W1h1euEtMSF3",
        "colab_type": "code",
        "colab": {}
      },
      "source": [
        "import numpy as np\n",
        "from collections import defaultdict\n",
        "from itertools import count\n",
        "import random\n",
        "\n",
        "import torch\n",
        "import torch.nn as nn\n",
        "import torch.nn.functional as F\n",
        "import torch.autograd as autograd\n",
        "\n",
        "from utils.replay_memory import ReplayMemory\n",
        "from utils import plotting\n",
        "\n",
        "torch.manual_seed(0)\n",
        "import numpy as np\n",
        "np.random.seed(0)\n",
        "from tqdm import tqdm\n",
        "\n",
        "USE_CUDA = torch.cuda.is_available()\n",
        "dtype = torch.cuda.FloatTensor if torch.cuda.is_available() else torch.FloatTensor\n",
        "\n",
        "class Variable(autograd.Variable):\n",
        "    def __init__(self, data, *args, **kwargs):\n",
        "        if USE_CUDA:\n",
        "            data = data.cuda()\n",
        "        super(Variable, self).__init__(data, *args, **kwargs)\n",
        "\n",
        "def one_hot_state(state):\n",
        "    vector = np.zeros(6)\n",
        "    vector[state-1] = 1.0\n",
        "    return np.expand_dims(vector, axis=0)\n",
        "\n",
        "def one_hot_goal(goal):\n",
        "    vector = np.zeros(6)\n",
        "    vector[goal-1] = 1.0\n",
        "    return np.expand_dims(vector, axis=0)\n",
        "\n",
        "def hdqn_learning(\n",
        "    env,\n",
        "    agent,\n",
        "    num_episodes,\n",
        "    exploration_schedule,\n",
        "    gamma=1.0,\n",
        "    ):\n",
        "\n",
        "    \"\"\"The h-DQN learning algorithm.\n",
        "    All schedules are w.r.t. total number of steps taken in the environment.\n",
        "    Parameters\n",
        "    ----------\n",
        "    env: gym.Env\n",
        "        gym environment to train on.\n",
        "    agent:\n",
        "        a h-DQN agent consists of a meta-controller and controller.\n",
        "    num_episodes:\n",
        "        Number (can be divided by 1000) of episodes to run for. Ex: 12000\n",
        "    exploration_schedule: Schedule (defined in utils.schedule)\n",
        "        schedule for probability of chosing random action.\n",
        "    gamma: float\n",
        "        Discount Factor\n",
        "    \"\"\"\n",
        "    ###############\n",
        "    # RUN ENV     #\n",
        "    ###############\n",
        "    # Keep track of useful statistics\n",
        "    stats = plotting.EpisodeStats(\n",
        "        episode_lengths=np.zeros(num_episodes),\n",
        "        episode_rewards=np.zeros(num_episodes))\n",
        "    n_thousand_episode = int(np.floor(num_episodes / 1000))\n",
        "    visits = np.zeros((n_thousand_episode, env.nS))\n",
        "    total_timestep = 0\n",
        "    meta_timestep = 0\n",
        "    ctrl_timestep = defaultdict(int)\n",
        "\n",
        "    for i_thousand_episode in range(n_thousand_episode):\n",
        "        for i_episode in tqdm(range(1000)):\n",
        "            episode_length = 0\n",
        "            current_state = env.reset()\n",
        "            visits[i_thousand_episode][current_state-1] += 1\n",
        "            encoded_current_state = one_hot_state(current_state)\n",
        "\n",
        "            done = False\n",
        "            while not done:\n",
        "                meta_timestep += 1\n",
        "                # Get annealing exploration rate (epislon) from exploration_schedule\n",
        "                meta_epsilon = exploration_schedule.value(total_timestep)\n",
        "                goal = agent.select_goal(encoded_current_state, meta_epsilon)[0]\n",
        "                encoded_goal = one_hot_goal(goal)\n",
        "\n",
        "                total_extrinsic_reward = 0\n",
        "                goal_reached = False\n",
        "                while not done and not goal_reached:\n",
        "                    total_timestep += 1\n",
        "                    episode_length += 1\n",
        "                    ctrl_timestep[goal] += 1\n",
        "                    # Get annealing exploration rate (epislon) from exploration_schedule\n",
        "                    ctrl_epsilon = exploration_schedule.value(total_timestep)\n",
        "                    joint_state_goal = np.concatenate([encoded_current_state, encoded_goal], axis=1)\n",
        "                    action = agent.select_action(joint_state_goal, ctrl_epsilon)[0]\n",
        "                    ### Step the env and store the transition\n",
        "                    next_state, extrinsic_reward, done, _ = env.step(action)\n",
        "                    # Update statistics\n",
        "                    stats.episode_rewards[i_thousand_episode*1000 + i_episode] += extrinsic_reward\n",
        "                    stats.episode_lengths[i_thousand_episode*1000 + i_episode] = episode_length\n",
        "                    visits[i_thousand_episode][next_state-1] += 1\n",
        "\n",
        "                    encoded_next_state = one_hot_state(next_state)\n",
        "                    intrinsic_reward = agent.get_intrinsic_reward(goal, next_state)\n",
        "                    goal_reached = next_state == goal\n",
        "\n",
        "                    joint_next_state_goal = np.concatenate([encoded_next_state, encoded_goal], axis=1)\n",
        "                    agent.ctrl_replay_memory.push(joint_state_goal, action, joint_next_state_goal, intrinsic_reward, done)\n",
        "                    # Update Both meta-controller and controller\n",
        "                    agent.update_meta_controller(gamma)\n",
        "                    agent.update_controller(gamma)\n",
        "\n",
        "                    total_extrinsic_reward += extrinsic_reward\n",
        "                    current_state = next_state\n",
        "                    encoded_current_state = encoded_next_state\n",
        "                # Goal Finished\n",
        "                agent.meta_replay_memory.push(encoded_current_state, goal, encoded_next_state, total_extrinsic_reward, done)\n",
        "\n",
        "    return agent, stats, visits\n"
      ],
      "execution_count": 0,
      "outputs": []
    },
    {
      "cell_type": "code",
      "metadata": {
        "id": "eFtwhjfT7bhb",
        "colab_type": "code",
        "colab": {}
      },
      "source": [
        "agent, stats, visits = hdqn_learning(\n",
        "    env=env,\n",
        "    agent=agent,\n",
        "    num_episodes=NUM_EPISODES,\n",
        "    exploration_schedule=exploration_schedule,\n",
        "    gamma=GAMMA,\n",
        ")"
      ],
      "execution_count": 0,
      "outputs": []
    },
    {
      "cell_type": "code",
      "metadata": {
        "id": "NPjAqJS47rJk",
        "colab_type": "code",
        "outputId": "6c240d24-6ab4-4663-c467-df66e49568fd",
        "colab": {
          "base_uri": "https://localhost:8080/",
          "height": 272
        }
      },
      "source": [
        "visits"
      ],
      "execution_count": 0,
      "outputs": [
        {
          "output_type": "execute_result",
          "data": {
            "text/plain": [
              "array([[1000., 1337.,  440.,  131.,   41.,   13.],\n",
              "       [1000., 1374.,  503.,  177.,   69.,   21.],\n",
              "       [1000., 1355.,  466.,  139.,   38.,   10.],\n",
              "       [1000., 1314.,  413.,  130.,   34.,    3.],\n",
              "       [1000., 1370.,  500.,  168.,   59.,   21.],\n",
              "       [1000., 1387.,  502.,  152.,   45.,    8.],\n",
              "       [1000., 1353.,  480.,  179.,   64.,   12.],\n",
              "       [1000., 1398.,  518.,  139.,   28.,    9.],\n",
              "       [1000., 1436.,  569.,  173.,   52.,   12.],\n",
              "       [1000., 1387.,  536.,  179.,   37.,    7.],\n",
              "       [1000., 1468.,  672.,  263.,   68.,    9.],\n",
              "       [1000., 1460.,  609.,  190.,   56.,   15.],\n",
              "       [1000., 1499.,  650.,  206.,   64.,    9.],\n",
              "       [1000., 1453.,  623.,  219.,   71.,   22.],\n",
              "       [1000., 1512.,  690.,  224.,   51.,    5.]])"
            ]
          },
          "metadata": {
            "tags": []
          },
          "execution_count": 8
        }
      ]
    },
    {
      "cell_type": "code",
      "metadata": {
        "id": "j0ylrX82Vz-K",
        "colab_type": "code",
        "colab": {}
      },
      "source": [
        "import pandas as pd\n",
        "import numpy as np\n",
        "import matplotlib.pyplot as plt\n",
        "import matplotlib\n",
        "matplotlib.style.use('seaborn-whitegrid')\n",
        "#%matplotlib inline\n",
        "\n",
        "import numpy as np \n",
        "\n",
        "from matplotlib import rc\n",
        "\n",
        "rc('figure', figsize=(9, 6))\n",
        "rc('axes', titlesize = 15, labelsize = 18, titleweight = 'bold')\n",
        "rc('xtick', labelsize = 16, color = 'black')\n",
        "rc('ytick', labelsize = 16, color = 'black')\n",
        "rc('legend', fontsize = 16, handlelength = 2)\n",
        "\n",
        "\n",
        "def plot_visited_states(visits, num_episodes):\n",
        "    n_thousand_episode = int(np.floor(num_episodes / 1000))\n",
        "    eps = list(range(1, n_thousand_episode + 1))\n",
        "\n",
        "    plt.figure(figsize=(10,5))\n",
        "    for i_state in range(2, 6):\n",
        "        state_label = \"State %d\" % (i_state + 1)\n",
        "        plt.plot(eps, visits[:, i_state]/1000, label=state_label)\n",
        "\n",
        "    plt.legend()\n",
        "    plt.xlabel(\"Episodes (*1000)\")\n",
        "    plt.ylim(-0.1, 1.2)\n",
        "    plt.xlim(1, 15)\n",
        "    plt.title(\"h-RQN : Number of visits in 6-DSDP (averaged over 1000 episodes)\")\n",
        "    plt.grid(True)\n",
        "    plt.savefig(\"./plot_visited_states.png\")\n"
      ],
      "execution_count": 0,
      "outputs": []
    },
    {
      "cell_type": "code",
      "metadata": {
        "id": "3BcDpov2V5Bt",
        "colab_type": "code",
        "outputId": "977f4454-0fef-440f-e701-9dae5e777e83",
        "colab": {
          "base_uri": "https://localhost:8080/",
          "height": 359
        }
      },
      "source": [
        "plot_visited_states(visits,15000)"
      ],
      "execution_count": 0,
      "outputs": [
        {
          "output_type": "display_data",
          "data": {
            "image/png": "[encoded data removed]",
            "text/plain": [
              "<Figure size 720x360 with 1 Axes>"
            ]
          },
          "metadata": {
            "tags": []
          }
        }
      ]
    },
    {
      "cell_type": "code",
      "metadata": {
        "id": "XgsPUaNn9x0J",
        "colab_type": "code",
        "colab": {}
      },
      "source": [
        "hdqn = pd.DataFrame(stats.episode_rewards, columns=['rewards'])\n",
        "\n",
        "hdqn.to_csv('./hdqn.csv')"
      ],
      "execution_count": 0,
      "outputs": []
    },
    {
      "cell_type": "code",
      "metadata": {
        "id": "AkseAHx6PX0p",
        "colab_type": "code",
        "colab": {}
      },
      "source": [
        "hdqn = pd.DataFrame(visits, columns=['rewards'])\n",
        "\n",
        "hdqn.to_csv('./hdqn.csv')"
      ],
      "execution_count": 0,
      "outputs": []
    },
    {
      "cell_type": "markdown",
      "metadata": {
        "id": "r5iSvC4yBveE",
        "colab_type": "text"
      },
      "source": [
        "## **HDRQN**"
      ]
    },
    {
      "cell_type": "code",
      "metadata": {
        "id": "0qhvzf9PC9Q2",
        "colab_type": "code",
        "outputId": "70cf255d-2b09-43e7-c278-7e9f2385c3dc",
        "colab": {
          "base_uri": "https://localhost:8080/",
          "height": 85
        }
      },
      "source": [
        "!git clone https://github.com/transedward/pytorch-hdqn.git\n",
        "import os \n",
        "os.chdir('./pytorch-hdqn/')"
      ],
      "execution_count": 0,
      "outputs": [
        {
          "output_type": "stream",
          "text": [
            "Cloning into 'pytorch-hdqn'...\n",
            "remote: Enumerating objects: 50, done.\u001b[K\n",
            "Unpacking objects:   2% (1/50)   \rUnpacking objects:   4% (2/50)   \rUnpacking objects:   6% (3/50)   \rUnpacking objects:   8% (4/50)   \rUnpacking objects:  10% (5/50)   \rUnpacking objects:  12% (6/50)   \rUnpacking objects:  14% (7/50)   \rUnpacking objects:  16% (8/50)   \rUnpacking objects:  18% (9/50)   \rUnpacking objects:  20% (10/50)   \rUnpacking objects:  22% (11/50)   \rUnpacking objects:  24% (12/50)   \rUnpacking objects:  26% (13/50)   \rUnpacking objects:  28% (14/50)   \rUnpacking objects:  30% (15/50)   \rUnpacking objects:  32% (16/50)   \rUnpacking objects:  34% (17/50)   \rUnpacking objects:  36% (18/50)   \rUnpacking objects:  38% (19/50)   \rUnpacking objects:  40% (20/50)   \rUnpacking objects:  42% (21/50)   \rUnpacking objects:  44% (22/50)   \rUnpacking objects:  46% (23/50)   \rUnpacking objects:  48% (24/50)   \rUnpacking objects:  50% (25/50)   \rUnpacking objects:  52% (26/50)   \rUnpacking objects:  54% (27/50)   \rUnpacking objects:  56% (28/50)   \rUnpacking objects:  58% (29/50)   \rUnpacking objects:  60% (30/50)   \rUnpacking objects:  62% (31/50)   \rUnpacking objects:  64% (32/50)   \rUnpacking objects:  66% (33/50)   \rUnpacking objects:  68% (34/50)   \rUnpacking objects:  70% (35/50)   \rUnpacking objects:  72% (36/50)   \rUnpacking objects:  74% (37/50)   \rUnpacking objects:  76% (38/50)   \rUnpacking objects:  78% (39/50)   \rUnpacking objects:  80% (40/50)   \rUnpacking objects:  82% (41/50)   \rUnpacking objects:  84% (42/50)   \rremote: Total 50 (delta 0), reused 0 (delta 0), pack-reused 50\u001b[K\n",
            "Unpacking objects:  86% (43/50)   \rUnpacking objects:  88% (44/50)   \rUnpacking objects:  90% (45/50)   \rUnpacking objects:  92% (46/50)   \rUnpacking objects:  94% (47/50)   \rUnpacking objects:  96% (48/50)   \rUnpacking objects:  98% (49/50)   \rUnpacking objects: 100% (50/50)   \rUnpacking objects: 100% (50/50), done.\n"
          ],
          "name": "stdout"
        }
      ]
    },
    {
      "cell_type": "code",
      "metadata": {
        "id": "fy0I4cTiBusB",
        "colab_type": "code",
        "colab": {}
      },
      "source": [
        "import numpy as np\n",
        "import random\n",
        "from collections import namedtuple\n",
        "\n",
        "import torch\n",
        "import torch.nn as nn\n",
        "import torch.nn.functional as F\n",
        "import torch.autograd as autograd\n",
        "\n",
        "from utils.replay_memory import ReplayMemory, Transition\n",
        "\n",
        "USE_CUDA = torch.cuda.is_available()\n",
        "dtype = torch.cuda.FloatTensor if torch.cuda.is_available() else torch.FloatTensor\n",
        "\n",
        "class Variable(autograd.Variable):\n",
        "    def __init__(self, data, *args, **kwargs):\n",
        "        if USE_CUDA:\n",
        "            data = data.cuda()\n",
        "        super(Variable, self).__init__(data, *args, **kwargs)\n",
        "\n",
        "class MetaController(nn.Module):\n",
        "    def __init__(self, in_features=6, out_features=6):\n",
        "        \"\"\"\n",
        "        Initialize a Meta-Controller of Hierarchical DQN network for the diecreate mdp experiment\n",
        "            in_features: number of features of input.\n",
        "            out_features: number of features of output.\n",
        "                Ex: goal for meta-controller or action for controller\n",
        "        \"\"\"\n",
        "        super(MetaController, self).__init__()\n",
        "        self.fc1 = nn.LSTM(in_features, 256)\n",
        "        self.fc2 = nn.Linear(256, out_features)\n",
        "\n",
        "    def forward(self, x):\n",
        "        x = self.fc1(x.view(len(x), 1, -1))\n",
        "        #print('R1'+str(np.shape(x[0])))\n",
        "        x = F.relu(x[0])\n",
        "        #print('R2'+str(np.shape(x)))\n",
        "        out = self.fc2(x.squeeze(1))\n",
        "        #print(out)\n",
        "        #out = out.view(-1)\n",
        "        #print('R3'+str(np.shape(out)))\n",
        "        return out\n",
        "\n",
        "class Controller(nn.Module):\n",
        "    def __init__(self, in_features=12, out_features=2):\n",
        "        \"\"\"\n",
        "        Initialize a Controller(given goal) of h-DQN for the diecreate mdp experiment\n",
        "            in_features: number of features of input.\n",
        "            out_features: number of features of output.\n",
        "                Ex: goal for meta-controller or action for controller\n",
        "        \"\"\"\n",
        "        super(Controller, self).__init__()\n",
        "        self.fc1 = nn.LSTM(in_features, 256)\n",
        "        self.fc2 = nn.Linear(256, out_features)\n",
        "\n",
        "    def forward(self, x):\n",
        "        x = self.fc1(x.view(len(x), 1, -1))\n",
        "        #print('S1'+str(np.shape(x[0])))\n",
        "        x = F.relu(x[0])\n",
        "        #print('S2'+str(np.shape(x)))\n",
        "        out = self.fc2(x.squeeze(1))\n",
        "        #print(out)\n",
        "        #out = out.view(-1)\n",
        "        #print('S3'+str(np.shape(out)))\n",
        "        return out\n",
        "\n",
        "\"\"\"\n",
        "    OptimizerSpec containing following attributes\n",
        "        constructor: The optimizer constructor ex: RMSprop\n",
        "        kwargs: {Dict} arguments for constructing optimizer\n",
        "\"\"\"\n",
        "OptimizerSpec = namedtuple(\"OptimizerSpec\", [\"constructor\", \"kwargs\"])\n",
        "\n",
        "class hDQN():\n",
        "    \"\"\"\n",
        "    The Hierarchical-DQN Agent\n",
        "    Parameters\n",
        "    ----------\n",
        "        optimizer_spec: OptimizerSpec\n",
        "            Specifying the constructor and kwargs, as well as learning rate schedule\n",
        "            for the optimizer\n",
        "        num_goal: int\n",
        "            The number of goal that agent can choose from\n",
        "        num_action: int\n",
        "            The number of action that agent can choose from\n",
        "        replay_memory_size: int\n",
        "            How many memories to store in the replay memory.\n",
        "        batch_size: int\n",
        "            How many transitions to sample each time experience is replayed.\n",
        "    \"\"\"\n",
        "    def __init__(self,\n",
        "                 optimizer_spec,\n",
        "                 num_goal=6,\n",
        "                 num_action=2,\n",
        "                 replay_memory_size=10000,\n",
        "                 batch_size=128):\n",
        "        ###############\n",
        "        # BUILD MODEL #\n",
        "        ###############\n",
        "        self.num_goal = num_goal\n",
        "        self.num_action = num_action\n",
        "        self.batch_size = batch_size\n",
        "        # Construct meta-controller and controller\n",
        "        self.meta_controller = MetaController().type(dtype)\n",
        "        self.target_meta_controller = MetaController().type(dtype)\n",
        "        self.controller = Controller().type(dtype)\n",
        "        self.target_controller = Controller().type(dtype)\n",
        "        # Construct the optimizers for meta-controller and controller\n",
        "        self.meta_optimizer = optimizer_spec.constructor(self.meta_controller.parameters(), **optimizer_spec.kwargs)\n",
        "        self.ctrl_optimizer = optimizer_spec.constructor(self.controller.parameters(), **optimizer_spec.kwargs)\n",
        "        # Construct the replay memory for meta-controller and controller\n",
        "        self.meta_replay_memory = ReplayMemory(replay_memory_size)\n",
        "        self.ctrl_replay_memory = ReplayMemory(replay_memory_size)\n",
        "\n",
        "    def get_intrinsic_reward(self, goal, state):\n",
        "        return 1.0 if goal == state else 0.0\n",
        "\n",
        "    def select_goal(self, state, epilson):\n",
        "        sample = random.random()\n",
        "        if sample > epilson:\n",
        "            state = torch.from_numpy(state).type(dtype)\n",
        "            # Use volatile = True if variable is only used in inference mode, i.e. donâ€™t save the history\n",
        "            return self.meta_controller(Variable(state, volatile=True)).data.max(1)[1].cpu()\n",
        "        else:\n",
        "            return torch.IntTensor([random.randrange(self.num_goal)])\n",
        "\n",
        "    def select_action(self, joint_state_goal, epilson):\n",
        "        sample = random.random()\n",
        "        if sample > epilson:\n",
        "            joint_state_goal = torch.from_numpy(joint_state_goal).type(dtype)\n",
        "            # Use volatile = True if variable is only used in inference mode, i.e. donâ€™t save the history\n",
        "            return self.controller(Variable(joint_state_goal, volatile=True)).data.max(1)[1].cpu()\n",
        "        else:\n",
        "            return torch.IntTensor([random.randrange(self.num_action)])\n",
        "\n",
        "    def update_meta_controller(self, gamma=1.0):\n",
        "        if len(self.meta_replay_memory) < self.batch_size:\n",
        "            return\n",
        "        state_batch, goal_batch, next_state_batch, ex_reward_batch, done_mask = \\\n",
        "            self.meta_replay_memory.sample(self.batch_size)\n",
        "        state_batch = Variable(torch.from_numpy(state_batch).type(dtype))\n",
        "        goal_batch = Variable(torch.from_numpy(goal_batch).long())\n",
        "        next_state_batch = Variable(torch.from_numpy(next_state_batch).type(dtype))\n",
        "        ex_reward_batch = Variable(torch.from_numpy(ex_reward_batch).type(dtype))\n",
        "        not_done_mask = Variable(torch.from_numpy(1 - done_mask)).type(dtype)\n",
        "        if USE_CUDA:\n",
        "            goal_batch = goal_batch.cuda()\n",
        "        # Compute current Q value, meta_controller takes only state and output value for every state-goal pair\n",
        "        # We choose Q based on goal chosen.\n",
        "        current_Q_values = self.meta_controller(state_batch).gather(1, goal_batch.unsqueeze(1))\n",
        "        # Compute next Q value based on which goal gives max Q values\n",
        "        # Detach variable from the current graph since we don't want gradients for next Q to propagated\n",
        "        next_max_q = self.target_meta_controller(next_state_batch).detach().max(1)[0]\n",
        "        next_Q_values = not_done_mask * next_max_q\n",
        "        # Compute the target of the current Q values\n",
        "        target_Q_values = ex_reward_batch + (gamma * next_Q_values)\n",
        "        # Compute Bellman error (using Huber loss)\n",
        "        loss = F.smooth_l1_loss(current_Q_values, target_Q_values)\n",
        "\n",
        "        # Copy Q to target Q before updating parameters of Q\n",
        "        self.target_meta_controller.load_state_dict(self.meta_controller.state_dict())\n",
        "        # Optimize the model\n",
        "        self.meta_optimizer.zero_grad()\n",
        "        loss.backward()\n",
        "        for param in self.meta_controller.parameters():\n",
        "            param.grad.data.clamp_(-1, 1)\n",
        "        self.meta_optimizer.step()\n",
        "\n",
        "    def update_controller(self, gamma=1.0):\n",
        "        if len(self.ctrl_replay_memory) < self.batch_size:\n",
        "            return\n",
        "        state_goal_batch, action_batch, next_state_goal_batch, in_reward_batch, done_mask = \\\n",
        "            self.ctrl_replay_memory.sample(self.batch_size)\n",
        "        state_goal_batch = Variable(torch.from_numpy(state_goal_batch).type(dtype))\n",
        "        action_batch = Variable(torch.from_numpy(action_batch).long())\n",
        "        next_state_goal_batch = Variable(torch.from_numpy(next_state_goal_batch).type(dtype))\n",
        "        in_reward_batch = Variable(torch.from_numpy(in_reward_batch).type(dtype))\n",
        "        not_done_mask = Variable(torch.from_numpy(1 - done_mask)).type(dtype)\n",
        "        if USE_CUDA:\n",
        "            action_batch = action_batch.cuda()\n",
        "        # Compute current Q value, controller takes only (state, goal) and output value for every (state, goal)-action pair\n",
        "        # We choose Q based on action taken.\n",
        "        current_Q_values = self.controller(state_goal_batch).gather(1, action_batch.unsqueeze(1))\n",
        "        # Compute next Q value based on which goal gives max Q values\n",
        "        # Detach variable from the current graph since we don't want gradients for next Q to propagated\n",
        "        next_max_q = self.target_controller(next_state_goal_batch).detach().max(1)[0]\n",
        "        next_Q_values = not_done_mask * next_max_q\n",
        "        # Compute the target of the current Q values\n",
        "        target_Q_values = in_reward_batch + (gamma * next_Q_values)\n",
        "        # Compute Bellman error (using Huber loss)\n",
        "        loss = F.smooth_l1_loss(current_Q_values, target_Q_values)\n",
        "\n",
        "        # Copy Q to target Q before updating parameters of Q\n",
        "        self.target_controller.load_state_dict(self.controller.state_dict())\n",
        "        # Optimize the model\n",
        "        self.ctrl_optimizer.zero_grad()\n",
        "        loss.backward()\n",
        "        for param in self.controller.parameters():\n",
        "            param.grad.data.clamp_(-1, 1)\n",
        "        self.ctrl_optimizer.step()\n"
      ],
      "execution_count": 0,
      "outputs": []
    },
    {
      "cell_type": "code",
      "metadata": {
        "id": "54P7q54aBulM",
        "colab_type": "code",
        "outputId": "f38464bc-53c7-42b7-b598-087c05a0716a",
        "colab": {
          "base_uri": "https://localhost:8080/",
          "height": 51
        }
      },
      "source": [
        "import matplotlib\n",
        "%matplotlib inline\n",
        "matplotlib.style.use('ggplot')\n",
        "\n",
        "import torch.optim as optim\n",
        "\n",
        "from envs.mdp import StochasticMDPEnv\n",
        "#from agents.hdqn_mdp import hDQN, OptimizerSpec\n",
        "from utils.plotting import plot_episode_stats, plot_visited_states\n",
        "from utils.schedule import LinearSchedule\n",
        "\n",
        "# for auto-reloading external modules\n",
        "# see http://stackoverflow.com/questions/1907993/autoreload-of-modules-in-ipython\n",
        "%load_ext autoreload\n",
        "%autoreload 2\n",
        "\n",
        "\n",
        "NUM_EPISODES = 15000\n",
        "BATCH_SIZE = 128\n",
        "GAMMA = 1.0\n",
        "REPLAY_MEMORY_SIZE = 1000000\n",
        "LEARNING_RATE = 0.00025\n",
        "ALPHA = 0.95\n",
        "EPS = 0.01\n",
        "\n",
        "optimizer_spec = OptimizerSpec(\n",
        "    constructor=optim.RMSprop,\n",
        "    kwargs=dict(lr=LEARNING_RATE, alpha=ALPHA, eps=EPS),\n",
        ")\n",
        "\n",
        "exploration_schedule = LinearSchedule(50000, 0.1, 1)\n",
        "\n",
        "agent = hDQN(\n",
        "    optimizer_spec=optimizer_spec,\n",
        "    replay_memory_size=REPLAY_MEMORY_SIZE,\n",
        "    batch_size=BATCH_SIZE,\n",
        ")\n",
        "\n",
        "env = StochasticMDPEnv()"
      ],
      "execution_count": 0,
      "outputs": [
        {
          "output_type": "stream",
          "text": [
            "The autoreload extension is already loaded. To reload it, use:\n",
            "  %reload_ext autoreload\n"
          ],
          "name": "stdout"
        }
      ]
    },
    {
      "cell_type": "code",
      "metadata": {
        "id": "bIX3yi_hBueR",
        "colab_type": "code",
        "colab": {}
      },
      "source": [
        "agent, stats, visits, = hdqn_learning(\n",
        "    env=env,\n",
        "    agent=agent,\n",
        "    num_episodes=NUM_EPISODES,\n",
        "    exploration_schedule=exploration_schedule,\n",
        "    gamma=GAMMA,\n",
        ")"
      ],
      "execution_count": 0,
      "outputs": []
    },
    {
      "cell_type": "code",
      "metadata": {
        "id": "qqies3V-BuWg",
        "colab_type": "code",
        "colab": {}
      },
      "source": [
        "hdrqn = pd.DataFrame(stats.episode_rewards, columns=['rewards'])\n",
        "\n",
        "hdrqn.to_csv('./hdrqn.csv')"
      ],
      "execution_count": 0,
      "outputs": []
    },
    {
      "cell_type": "code",
      "metadata": {
        "id": "g7sLGtw1ZVCr",
        "colab_type": "code",
        "outputId": "1549512c-fade-4e9b-deab-4cc0da1479dc",
        "colab": {
          "base_uri": "https://localhost:8080/",
          "height": 354
        }
      },
      "source": [
        "def plot_visited_states(visits, num_episodes):\n",
        "    n_thousand_episode = int(np.floor(num_episodes / 1000))\n",
        "    eps = list(range(1, n_thousand_episode + 1))\n",
        "\n",
        "    plt.figure(figsize=(10,5))\n",
        "    for i_state in range(2, 6):\n",
        "        state_label = \"State %d\" % (i_state + 1)\n",
        "        plt.plot(eps, visits[:, i_state]/1000, label=state_label)\n",
        "\n",
        "    plt.legend()\n",
        "    plt.xlabel(\"Episodes (*1000)\")\n",
        "    plt.ylim(-0.1, 1.2)\n",
        "    plt.xlim(1, 15)\n",
        "    plt.title(\"h-DRQN : Number of visits in 6-DSDP (averaged over 1000 episodes)\")\n",
        "    plt.grid(True)\n",
        "    plt.savefig(\"./plot_visited_states.png\")\n",
        "    \n",
        "plot_visited_states(visits,15000)"
      ],
      "execution_count": 0,
      "outputs": [
        {
          "output_type": "display_data",
          "data": {
            "image/png": "[encoded data removed]",
            "text/plain": [
              "<Figure size 720x360 with 1 Axes>"
            ]
          },
          "metadata": {
            "tags": []
          }
        }
      ]
    },
    {
      "cell_type": "markdown",
      "metadata": {
        "id": "AOJNCSyPIOOZ",
        "colab_type": "text"
      },
      "source": [
        "## **DRQN**"
      ]
    },
    {
      "cell_type": "code",
      "metadata": {
        "id": "IYO9QdHgBuNR",
        "colab_type": "code",
        "outputId": "db4ff6be-5b57-4d0f-da36-2eebe3752d3d",
        "colab": {
          "base_uri": "https://localhost:8080/",
          "height": 51
        }
      },
      "source": [
        "import matplotlib\n",
        "%matplotlib inline\n",
        "matplotlib.style.use('ggplot')\n",
        "\n",
        "from envs.mdp import StochasticMDPEnv\n",
        "from utils.plotting import plot_episode_stats, plot_visited_states\n",
        "from utils.schedule import LinearSchedule\n",
        "\n",
        "from q_learning import q_learning\n",
        "\n",
        "# for auto-reloading external modules\n",
        "# see http://stackoverflow.com/questions/1907993/autoreload-of-modules-in-ipython\n",
        "%load_ext autoreload\n",
        "%autoreload 2"
      ],
      "execution_count": 0,
      "outputs": [
        {
          "output_type": "stream",
          "text": [
            "The autoreload extension is already loaded. To reload it, use:\n",
            "  %reload_ext autoreload\n"
          ],
          "name": "stdout"
        }
      ]
    },
    {
      "cell_type": "code",
      "metadata": {
        "id": "ybA5NVGHICgR",
        "colab_type": "code",
        "colab": {}
      },
      "source": [
        "NUM_EPISODES = 15000\n",
        "exploration_schedule = LinearSchedule(50000, 0.1, 1.0)\n",
        "\n",
        "env = StochasticMDPEnv()"
      ],
      "execution_count": 0,
      "outputs": []
    },
    {
      "cell_type": "code",
      "metadata": {
        "id": "Ny1t6v8WIGob",
        "colab_type": "code",
        "colab": {}
      },
      "source": [
        "Q, stats, visits = q_learning(env, NUM_EPISODES, lr=0.00025, exploration_schedule=exploration_schedule)"
      ],
      "execution_count": 0,
      "outputs": []
    },
    {
      "cell_type": "code",
      "metadata": {
        "id": "F2h_GXlcIkSD",
        "colab_type": "code",
        "colab": {}
      },
      "source": [
        "drqn = pd.DataFrame(stats.episode_rewards, columns=['rewards'])\n",
        "\n",
        "drqn.to_csv('./drqn.csv')"
      ],
      "execution_count": 0,
      "outputs": []
    },
    {
      "cell_type": "code",
      "metadata": {
        "id": "sdIoe15rZXB2",
        "colab_type": "code",
        "outputId": "ac9c9177-a73f-4afe-ebb5-28f319299814",
        "colab": {
          "base_uri": "https://localhost:8080/",
          "height": 359
        }
      },
      "source": [
        "plot_visited_states(visits,15000)"
      ],
      "execution_count": 0,
      "outputs": [
        {
          "output_type": "display_data",
          "data": {
            "image/png": "[encoded data removed]",
            "text/plain": [
              "<Figure size 720x360 with 1 Axes>"
            ]
          },
          "metadata": {
            "tags": []
          }
        }
      ]
    },
    {
      "cell_type": "code",
      "metadata": {
        "id": "v9Pn9h9_oowP",
        "colab_type": "code",
        "outputId": "353ff9b9-c26f-4bc7-f544-c4dc806a4791",
        "colab": {
          "base_uri": "https://localhost:8080/",
          "height": 272
        }
      },
      "source": [
        "visits"
      ],
      "execution_count": 0,
      "outputs": [
        {
          "output_type": "execute_result",
          "data": {
            "text/plain": [
              "array([[1.000e+03, 1.322e+03, 4.260e+02, 1.400e+02, 5.000e+01, 1.400e+01],\n",
              "       [1.000e+03, 1.314e+03, 4.040e+02, 1.260e+02, 4.600e+01, 1.000e+01],\n",
              "       [1.000e+03, 1.335e+03, 4.250e+02, 1.160e+02, 3.500e+01, 9.000e+00],\n",
              "       [1.000e+03, 1.273e+03, 3.350e+02, 8.800e+01, 3.800e+01, 1.200e+01],\n",
              "       [1.000e+03, 1.272e+03, 3.570e+02, 1.070e+02, 3.000e+01, 8.000e+00],\n",
              "       [1.000e+03, 1.274e+03, 3.430e+02, 8.300e+01, 1.400e+01, 0.000e+00],\n",
              "       [1.000e+03, 1.249e+03, 3.060e+02, 7.300e+01, 2.100e+01, 5.000e+00],\n",
              "       [1.000e+03, 1.217e+03, 2.760e+02, 7.000e+01, 1.900e+01, 8.000e+00],\n",
              "       [1.000e+03, 1.222e+03, 2.780e+02, 7.000e+01, 1.500e+01, 1.000e+00],\n",
              "       [1.000e+03, 1.210e+03, 2.550e+02, 5.300e+01, 1.000e+01, 2.000e+00],\n",
              "       [1.000e+03, 1.191e+03, 2.300e+02, 4.700e+01, 8.000e+00, 0.000e+00],\n",
              "       [1.000e+03, 1.196e+03, 2.280e+02, 4.300e+01, 1.100e+01, 0.000e+00],\n",
              "       [1.000e+03, 1.205e+03, 2.400e+02, 4.100e+01, 6.000e+00, 0.000e+00],\n",
              "       [1.000e+03, 1.181e+03, 2.110e+02, 3.500e+01, 6.000e+00, 1.000e+00],\n",
              "       [1.000e+03, 1.158e+03, 1.790e+02, 2.400e+01, 3.000e+00, 0.000e+00]])"
            ]
          },
          "metadata": {
            "tags": []
          },
          "execution_count": 46
        }
      ]
    }
  ]
}